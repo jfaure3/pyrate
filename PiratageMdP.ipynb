{
 "cells": [
  {
   "cell_type": "markdown",
   "metadata": {},
   "source": [
    "# Piratage de mot de passe"
   ]
  },
  {
   "cell_type": "markdown",
   "metadata": {},
   "source": [
    "Un peu de vocabulaire\n",
    "\n",
    "- Chiffrement : coder des données de manières à les rendre illisibles.\n",
    "- Déchiffrement : décoder ces données pour les rendre lisibles en tant que destinataire.\n",
    "- Décrypter : décoder ces données pour les rendre lisibles sans en avoir le droit.\n",
    "\n",
    "Usuellement, les sites conservent les identifiants de leurs abonnées, mais pas les mots de passe en clair. Ceux-ci sont mémorisés sous forme de hash (chaîne de caractères unique pour chaque mot de passe), en cas de piratage du site, cela permet d'empêcher le pirate de tester les couples identifiants - mots de passe sur d'autres sites (souvent les internautes utilisent les mêmes sur différents sites)."
   ]
  },
  {
   "cell_type": "markdown",
   "metadata": {},
   "source": [
    "## Ingénierie sociale"
   ]
  },
  {
   "cell_type": "code",
   "execution_count": null,
   "metadata": {},
   "outputs": [],
   "source": [
    "import hashlib\n",
    "import time\n",
    "def fonction_de_hash(chaine):\n",
    "    \"\"\"retourne le hash de la chaine de caractère\"\"\"\n",
    "    return hashlib.sha224(chaine.encode('ASCII')).hexdigest()"
   ]
  },
  {
   "cell_type": "markdown",
   "metadata": {},
   "source": [
    "testez quelques mots de passe avec la fonction suivante en tapant `fonction_de_hash('bonjour')`, `fonction_de_hash('Bonjour')` dans la cellule ci-dessous. Les hashs se ressemblent-t-ils?"
   ]
  },
  {
   "cell_type": "code",
   "execution_count": null,
   "metadata": {},
   "outputs": [],
   "source": [
    "fonction_de_hash('Bonjour')"
   ]
  },
  {
   "cell_type": "code",
   "execution_count": null,
   "metadata": {},
   "outputs": [],
   "source": [
    "fonction_de_hash('bonjour')"
   ]
  },
  {
   "cell_type": "markdown",
   "metadata": {},
   "source": [
    "À partir des informations personnelles de Jean que l’on peut collecter sur le web, et de l’empreinte hash récupérée sur un site marchand peu sécurisé, nous allons retrouver son mot de passe.\n",
    "\n",
    "La fonction suivante calcule le hash de toutes les combinaisons de mots mis en paramètres et compare les hashes obtenus avec le hash à décrypter."
   ]
  },
  {
   "cell_type": "code",
   "execution_count": null,
   "metadata": {},
   "outputs": [],
   "source": [
    "import hashlib\n",
    "import time\n",
    "def fonction_de_hash(chaine):\n",
    "    \"\"\"retourne le hash de la chaine de caractère\"\"\"\n",
    "    return hashlib.sha224(chaine.encode('ASCII')).hexdigest()\n",
    "\n",
    "def crackSocial(listeMots,empreinte):\n",
    "    \"\"\"retourne le mot de passe trouvé le nombre d'essais et le temps mis.\n",
    "    La liste de mots contient les éléments sociaaux de la personne\n",
    "    ['Pierre','Rennes','2001'] par exemple.\n",
    "    l'empreinte est le hash du mot de passe\"\"\"\n",
    "    compteur=0\n",
    "    a=time.time()\n",
    "    listeMots=listeMots+[mot.upper() for mot in listeMots]+[mot.lower() for mot in listeMots]\n",
    "    listeMots.append(\"\")\n",
    "    print(listeMots,'\\n')\n",
    "    for mot1 in listeMots:\n",
    "        for mot2 in listeMots:\n",
    "            for mot3 in listeMots:\n",
    "                for mot4 in listeMots:\n",
    "                    mdp=mot1+mot2+mot3+mot4\n",
    "                    compteur+=1\n",
    "                    if empreinte==fonction_de_hash(mdp):\n",
    "                        temps=time.time()-a\n",
    "                        return 'trouvé : '+mdp+\" en \"+str(temps)+\"s et \"+str(compteur)+\" essais\"\n",
    "    temps=time.time()-a\n",
    "    return \"pas trouvé en \"+str(temps)+\"s et \"+str(compteur)+\" essais\""
   ]
  },
  {
   "cell_type": "markdown",
   "metadata": {},
   "source": [
    "Vous pourrez copier l'instruction ci-dessous\n",
    "\n",
    "`crackSocial(['Jean','35160','Martin','Gare','12','2002','Rennes','Montfort','17'],'1e47601edc1b242abfdb42c01f99436547e3b05310bc9c056c81d4ce')`\n",
    "\n",
    "dans la cellule ci-dessous. \n",
    "\n",
    "Le hash du mot de passe avec sha224 : '1e47601edc1b242abfdb42c01f99436547e3b05310bc9c056c81d4ce'"
   ]
  },
  {
   "cell_type": "code",
   "execution_count": null,
   "metadata": {},
   "outputs": [],
   "source": [
    "crackSocial(['Jean','35160','Martin','Gare','12','2002','Rennes','Montfort','17'],'1e47601edc1b242abfdb42c01f99436547e3b05310bc9c056c81d4ce')\n"
   ]
  },
  {
   "cell_type": "markdown",
   "metadata": {},
   "source": [
    "## Force brute"
   ]
  },
  {
   "cell_type": "markdown",
   "metadata": {},
   "source": [
    "Maintenant nous allons décrypter un hash en force brute, c'est à dire que nous allons tester toutes les combinaisons de caractères jusqu'à trouver le mot de passe."
   ]
  },
  {
   "cell_type": "code",
   "execution_count": null,
   "metadata": {},
   "outputs": [],
   "source": [
    "import hashlib\n",
    "import time\n",
    "def fonction_de_hash(chaine):\n",
    "    \"\"\"retourne le hash de la chaine de caractère\"\"\"\n",
    "    return hashlib.sha224(chaine.encode('ASCII')).hexdigest()\n",
    "\n",
    "def crackForceBrute(empreinte):\n",
    "    \"\"\"retourne le mot de passe, le nombre d'essais et le temps mis.\n",
    "    l'empreinte est le hash du mot de passe :\n",
    "    '1e47601edc1b242abfdb42c01f99436547e3b05310bc9c056c81d4ce'\n",
    "    par exemple\"\"\"\n",
    "    compteur=0\n",
    "    a=time.time()\n",
    "    listeCaracteres='abcdefghijklmnopqrstuvwxyz'\n",
    "    print(listeCaracteres,'\\n')\n",
    "    for carac1 in listeCaracteres:\n",
    "        for carac2 in listeCaracteres:\n",
    "            for carac3 in listeCaracteres:\n",
    "                for carac4 in listeCaracteres:\n",
    "                    for carac5 in listeCaracteres:\n",
    "                        mdp=carac1+carac2+carac3+carac4+carac5\n",
    "                        compteur+=1\n",
    "                        if empreinte==fonction_de_hash(mdp.replace(\" \",\"\")):\n",
    "                            temps=time.time()-a\n",
    "                            return 'trouvé : '+mdp+\" en \"+str(temps)+\"s et \"+str(compteur)+\" essais\"\n",
    "    temps=time.time()-a\n",
    "    return \"pas trouvé en \"+str(temps)+\"s et \"+str(compteur)+\" essais\""
   ]
  },
  {
   "cell_type": "markdown",
   "metadata": {},
   "source": [
    "Vous exécuterez la fonction\n",
    "\n",
    "`crackForceBrute('ea09ae9cc6768c50fcee903ed054556e5bfc8347907f12598aa24193')`\n",
    "\n",
    "dans la cellule ci-dessous."
   ]
  },
  {
   "cell_type": "code",
   "execution_count": null,
   "metadata": {},
   "outputs": [],
   "source": [
    "crackForceBrute('ea09ae9cc6768c50fcee903ed054556e5bfc8347907f12598aa24193')"
   ]
  },
  {
   "cell_type": "markdown",
   "metadata": {},
   "source": [
    "## Un bon mot de passe (pour l'instant)"
   ]
  },
  {
   "cell_type": "markdown",
   "metadata": {},
   "source": [
    "Pour obtenir un mot de passe fort, on peut partir d’une phrase et ne retenir que les première lettres des mots :\n",
    "\n",
    "`Ô combien de marins, combien de capitaines`\n",
    "\n",
    "`O c       2  m       c       2  c`\n",
    "\n",
    "`Qui sont partis joyeux pour des courses lointaines,`\n",
    "\n",
    "`q   $    p      j      p    d   c       l`\n",
    "\n",
    "`Dans ce morne horizon se sont évanouis`\n",
    "\n",
    "`d    c  m     #       $  $    €`\n",
    "\n",
    "Ce qui donne : `Oc2mc2cq$pjpdcldcm#$$€`\n"
   ]
  },
  {
   "cell_type": "markdown",
   "metadata": {},
   "source": [
    "## Quelques ordres de grandeur"
   ]
  },
  {
   "cell_type": "markdown",
   "metadata": {},
   "source": [
    "Calcul de la résistance d’un mot de passe à une attaque en force brute :\n",
    "\n",
    "Un ordinateur teste une combinaison toutes les microsecondes, combien d’années faut-il si le mot de passe n’utilise que 10 lettres minuscules ?\n",
    "\n",
    "Calcul de la résistance d’un mot de passe à une attaque en ingénierie sociale :\n",
    "\n",
    "Combien d’heures faut-il pour décrypter un mot de passe constitué de 3 mots d’un dictionnaire de 3000 mots (par exemple motdepasse) ?"
   ]
  },
  {
   "cell_type": "markdown",
   "metadata": {},
   "source": [
    "## Codes César, Vigenère"
   ]
  },
  {
   "cell_type": "markdown",
   "metadata": {},
   "source": [
    "Recherchez sur le web les descriptions de ces méthodes de chiffrement.\n",
    "\n",
    "Testez-les avec des applications en ligne en vous partageant les messages chiffrés dans l'espace d'échange de la classe."
   ]
  }
 ],
 "metadata": {
  "kernelspec": {
   "display_name": "Python 3",
   "language": "python",
   "name": "python3"
  },
  "language_info": {
   "codemirror_mode": {
    "name": "ipython",
    "version": 3
   },
   "file_extension": ".py",
   "mimetype": "text/x-python",
   "name": "python",
   "nbconvert_exporter": "python",
   "pygments_lexer": "ipython3",
   "version": "3.7.3"
  },
  "varInspector": {
   "cols": {
    "lenName": 16,
    "lenType": 16,
    "lenVar": 40
   },
   "kernels_config": {
    "python": {
     "delete_cmd_postfix": "",
     "delete_cmd_prefix": "del ",
     "library": "var_list.py",
     "varRefreshCmd": "print(var_dic_list())"
    },
    "r": {
     "delete_cmd_postfix": ") ",
     "delete_cmd_prefix": "rm(",
     "library": "var_list.r",
     "varRefreshCmd": "cat(var_dic_list()) "
    }
   },
   "types_to_exclude": [
    "module",
    "function",
    "builtin_function_or_method",
    "instance",
    "_Feature"
   ],
   "window_display": false
  }
 },
 "nbformat": 4,
 "nbformat_minor": 2
}
