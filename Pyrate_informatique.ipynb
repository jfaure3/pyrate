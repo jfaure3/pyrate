{
 "cells": [
  {
   "cell_type": "markdown",
   "metadata": {},
   "source": [
    "# Le _pyrate_ informatique"
   ]
  },
  {
   "cell_type": "markdown",
   "metadata": {},
   "source": [
    "## Présentation de la situation"
   ]
  },
  {
   "attachments": {
    "image.png": {
     "image/png": "[encoded data removed]"
    }
   },
   "cell_type": "markdown",
   "metadata": {},
   "source": [
    "Vous trouverez ci-dessous 10 fonctions `cracker0()`, ..., `cracker9()` qui vont vous permettre de trouver une clé numérique composée de 10 chiffres. \n",
    "\n",
    "Pour cela, vous allez devoir cracker les 10 niveaux dans l'ordre et chaque niveau cracké vous donnera un nouveau chiffre de la clé.\n",
    "\n",
    "Pour cracker un niveau il faut remplacer les `?` par la réponse attendue.\n",
    "\n",
    "**Exemple** : `cracker4(18)` pour tenter de valider le niveau 4 avec la réponse 18\n",
    "\n",
    "La fonction vous renvoie : \n",
    "- `True` suivi de la clé complétée avec un nouveau chiffre.\n",
    "- `False` si la réponse est fausse.\n",
    "\n",
    "**Attention**: \n",
    "- vous devez impérativement valider **DANS L'ORDRE** les niveaux.\n",
    "\n",
    "Pour cela exécuter cellule après cellule à l'aide du bouton ![image.png](attachment:image.png)\n",
    "\n",
    "- vous disposez d’autant d’essais que vous le souhaitez pour valider un niveau.\n",
    "- La clé à d écouvrir ne change pas tant qu’on ne relance pas le code de la fonction `cracker0()`. En effet, la clé change à chaque exécution du code.\n",
    "\n",
    "**La clé**\n",
    "\n",
    "Chaque chiffre de la clé est calculé au fur et à mesure du crackage et est stocké par le programme dans une variable : Le premier chiffre de la clé est enregistré dans `cle[0]`, le deuxième dans `cle[1]`, ..., et le dixième dans `cle[9]`."
   ]
  },
  {
   "cell_type": "code",
   "execution_count": 1,
   "metadata": {},
   "outputs": [],
   "source": [
    "from random import *\n",
    "cle = [\"-\",\"-\",\"-\",\"-\",\"-\",\"-\",\"-\",\"-\",\"-\",\"-\"]\n",
    "\n",
    "def cracker0(reponse):\n",
    "  \n",
    "  a = 15         \n",
    "  b = 2 * a - 5   \n",
    "  \n",
    "  if reponse == b:          #Si ta réponse est égale à b alors c'est gagné\n",
    "    cle[0] = randint(0,9)   #Calcul du premier chiffre de la clé\n",
    "    print(True,\"\\nCle :\",cle[0],\"- - - - - - - - -\")\n",
    "  else:\n",
    "    print(False)          #Ce n'est pas la bonne réponse. Essaie encore !"
   ]
  },
  {
   "cell_type": "code",
   "execution_count": null,
   "metadata": {},
   "outputs": [],
   "source": [
    "cracker0(?)"
   ]
  },
  {
   "cell_type": "code",
   "execution_count": null,
   "metadata": {},
   "outputs": [],
   "source": [
    "def cracker1(reponse):\n",
    "  \n",
    "  a = cle[0]             #a est égal au premier chiffre de la clé trouvé précédemment         \n",
    "  b = a**2 + 1             #b est égal à a^2+1 (a au carré plus 1)         \n",
    "\n",
    "  if reponse == b:\n",
    "    cle[1] = (cle[0] + 3) % 10  #Le deuxième chiffre de la clé est calculé\n",
    "    print(True,\"\\nCle :\",cle[0],cle[1],\"- - - - - - - -\")\n",
    "  else:\n",
    "    print(False)          #Ce n'est pas la bonne réponse. Essaie encore !"
   ]
  },
  {
   "cell_type": "code",
   "execution_count": null,
   "metadata": {},
   "outputs": [],
   "source": [
    "cracker1(?)"
   ]
  },
  {
   "cell_type": "code",
   "execution_count": null,
   "metadata": {},
   "outputs": [],
   "source": [
    "def cracker2(reponse):\n",
    "\n",
    "  a = cle[1]     #a est égal 2ieme chiffre de la clé         \n",
    "  a = 2 * a\n",
    "  a = a + 1\n",
    "\n",
    "  if reponse == a:          \n",
    "    cle[2] = (cle[1] + 5) % 10  #Le troisième chiffre de la clé est calculé\n",
    "    print(True,\"\\nCle :\",cle[0],cle[1],cle[2],\"- - - - - - -\")\n",
    "  else:\n",
    "    print(False)\n"
   ]
  },
  {
   "cell_type": "code",
   "execution_count": null,
   "metadata": {},
   "outputs": [],
   "source": [
    "cracker2(?)"
   ]
  },
  {
   "cell_type": "code",
   "execution_count": null,
   "metadata": {},
   "outputs": [],
   "source": [
    "def cracker3(reponse):\n",
    "                       \n",
    "  a = cle[0]               #a est égal au premier chiffre de la clé                 \n",
    "  a = a + cle[1]\n",
    "  a = a + cle[2]\n",
    "  \n",
    "  if reponse == a:\n",
    "    cle[3] = (cle[2] + 7) % 10\n",
    "    print(True,\"\\nCle :\",cle[0],cle[1],cle[2],cle[3],\"- - - - - -\")        \n",
    "  else:\n",
    "    print(False)"
   ]
  },
  {
   "cell_type": "code",
   "execution_count": null,
   "metadata": {},
   "outputs": [],
   "source": [
    "cracker3(?)"
   ]
  },
  {
   "cell_type": "code",
   "execution_count": null,
   "metadata": {},
   "outputs": [],
   "source": [
    "def cracker4(reponse):\n",
    "\n",
    "  a = 0\n",
    "  if cle[0] < cle[1]:\n",
    "    a = a + 1\n",
    "  if cle[2] < cle[3]:\n",
    "    a = a + 1\n",
    "  if cle[0] <= 5 and cle[1] <= 5:\n",
    "    a = a + 1\n",
    "  if cle[2] <= 5 or cle[3] <= 5:\n",
    "    a = a + 1\n",
    "        \n",
    "  if reponse == a:      \n",
    "    cle[4] = (3 * cle[3] + 3) % 10\n",
    "    print(True,\"\\nCle :\",cle[0],cle[1],cle[2],cle[3],cle[4],\"- - - - -\")           \n",
    "  else:\n",
    "    print(False)"
   ]
  },
  {
   "cell_type": "code",
   "execution_count": null,
   "metadata": {},
   "outputs": [],
   "source": [
    "cracker4(?)"
   ]
  },
  {
   "cell_type": "code",
   "execution_count": null,
   "metadata": {},
   "outputs": [],
   "source": [
    "def cracker5(reponse):\n",
    "\n",
    "  if cle[4] > 5:    \n",
    "    a = reponse - 5\n",
    "  else:\n",
    "    a = 2 * reponse + 3\n",
    "                 \n",
    "  if a == 17:\n",
    "    cle[5] = (3 * cle[4] + 5) % 10\n",
    "    print(True,\"\\nCle :\",cle[0],cle[1],cle[2],cle[3],cle[4],cle[5],\"- - - -\")           \n",
    "  else:\n",
    "    print(False)"
   ]
  },
  {
   "cell_type": "code",
   "execution_count": null,
   "metadata": {},
   "outputs": [],
   "source": [
    "cracker5(?)"
   ]
  },
  {
   "cell_type": "code",
   "execution_count": null,
   "metadata": {},
   "outputs": [],
   "source": [
    "def cracker6(reponse):\n",
    "\n",
    "  a = cle[5]\n",
    "  for i in range(10):    \n",
    "    a = a + 1              \n",
    "    \n",
    "  if reponse == a:\n",
    "    cle[6] = (3 * cle[5] + 7) % 10\n",
    "    print(True,\"\\nCle :\",cle[0],cle[1],cle[2],cle[3],cle[4],cle[5],cle[6],\"- - -\")\n",
    "  else:\n",
    "    print(False)"
   ]
  },
  {
   "cell_type": "code",
   "execution_count": null,
   "metadata": {},
   "outputs": [],
   "source": [
    "cracker6(?)"
   ]
  },
  {
   "cell_type": "code",
   "execution_count": null,
   "metadata": {},
   "outputs": [],
   "source": [
    "def cracker7(reponse):\n",
    "\n",
    "  a = cle[6]\n",
    "  for i in range(5):\n",
    "    a = 2 * a           \n",
    "\n",
    "  if reponse == a:\n",
    "    cle[7] = (7 * cle[6] + 3) % 10\n",
    "    print(True,\"\\nCle :\",cle[0],cle[1],cle[2],cle[3],cle[4],cle[5],cle[6],cle[7],\"- -\")\n",
    "  else:\n",
    "    print(False)"
   ]
  },
  {
   "cell_type": "code",
   "execution_count": null,
   "metadata": {},
   "outputs": [],
   "source": [
    "cracker7(?)"
   ]
  },
  {
   "cell_type": "code",
   "execution_count": null,
   "metadata": {},
   "outputs": [],
   "source": [
    "def cracker8(reponse):\n",
    "\n",
    "  a = reponse\n",
    "  for i in range(5):\n",
    "    a = a - 1\n",
    "  \n",
    "  if a == cle[7]:\n",
    "    cle[8] = (7 * cle[7] + 5) % 10\n",
    "    print(True,\"\\nCle :\",cle[0],cle[1],cle[2],cle[3],cle[4],cle[5],cle[6],cle[7],cle[8],\"-\")\n",
    "  else:\n",
    "    print(False)"
   ]
  },
  {
   "cell_type": "code",
   "execution_count": null,
   "metadata": {},
   "outputs": [],
   "source": [
    "cracker8(?)"
   ]
  },
  {
   "cell_type": "code",
   "execution_count": null,
   "metadata": {},
   "outputs": [],
   "source": [
    "def cracker9(reponse):\n",
    "\n",
    "  S = 0  \n",
    "  for i in range(9):     #Pour i allant de 1 à 9\n",
    "    S = S + cle[i]              #cle[i] désigne le ième chiffre de la clé\n",
    "\n",
    "  if reponse == S:\n",
    "    cle[9] = (7 * cle[8] + 7) % 10\n",
    "    print(True,\"\\nCle :\",cle[0],cle[1],cle[2],cle[3],cle[4],cle[5],cle[6],cle[7],cle[8],cle[9])\n",
    "    print(\"Félicitations !\")\n",
    "  else:\n",
    "    print(False)"
   ]
  },
  {
   "cell_type": "code",
   "execution_count": null,
   "metadata": {},
   "outputs": [],
   "source": [
    "cracker9(?)"
   ]
  }
 ],
 "metadata": {
  "kernelspec": {
   "display_name": "Python 3",
   "language": "python",
   "name": "python3"
  },
  "language_info": {
   "codemirror_mode": {
    "name": "ipython",
    "version": 3
   },
   "file_extension": ".py",
   "mimetype": "text/x-python",
   "name": "python",
   "nbconvert_exporter": "python",
   "pygments_lexer": "ipython3",
   "version": "3.8.5"
  },
  "varInspector": {
   "cols": {
    "lenName": 16,
    "lenType": 16,
    "lenVar": 40
   },
   "kernels_config": {
    "python": {
     "delete_cmd_postfix": "",
     "delete_cmd_prefix": "del ",
     "library": "var_list.py",
     "varRefreshCmd": "print(var_dic_list())"
    },
    "r": {
     "delete_cmd_postfix": ") ",
     "delete_cmd_prefix": "rm(",
     "library": "var_list.r",
     "varRefreshCmd": "cat(var_dic_list()) "
    }
   },
   "types_to_exclude": [
    "module",
    "function",
    "builtin_function_or_method",
    "instance",
    "_Feature"
   ],
   "window_display": false
  }
 },
 "nbformat": 4,
 "nbformat_minor": 2
}
